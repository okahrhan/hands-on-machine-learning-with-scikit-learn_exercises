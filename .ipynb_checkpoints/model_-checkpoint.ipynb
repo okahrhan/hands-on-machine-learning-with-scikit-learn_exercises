{
 "cells": [
  {
   "cell_type": "code",
   "execution_count": 31,
   "id": "7e049f31-d690-4e26-a19b-59b099db07d9",
   "metadata": {},
   "outputs": [],
   "source": [
    "import pandas as pd\n",
    "import numpy as np\n",
    "\n",
    "from sklearn.model_selection import StratifiedKFold\n",
    "from sklearn.ensemble import RandomForestClassifier\n",
    "from sklearn.metrics import f1_score, roc_auc_score"
   ]
  },
  {
   "cell_type": "code",
   "execution_count": 32,
   "id": "daec07bc-1d5b-4c72-94c2-be9eec1c985c",
   "metadata": {},
   "outputs": [],
   "source": [
    "df = pd.read_csv('emails_prepared.csv')"
   ]
  },
  {
   "cell_type": "code",
   "execution_count": 33,
   "id": "b86391b5-75b1-447b-9f9d-83bf15247ab0",
   "metadata": {},
   "outputs": [
    {
     "name": "stdout",
     "output_type": "stream",
     "text": [
      "<class 'pandas.core.frame.DataFrame'>\n",
      "RangeIndex: 9353 entries, 0 to 9352\n",
      "Data columns (total 32 columns):\n",
      " #   Column                    Non-Null Count  Dtype  \n",
      "---  ------                    --------------  -----  \n",
      " 0   path                      9353 non-null   object \n",
      " 1   subject                   9327 non-null   object \n",
      " 2   body                      9347 non-null   object \n",
      " 3   text_all                  9353 non-null   object \n",
      " 4   clean_text                9353 non-null   object \n",
      " 5   label                     9353 non-null   object \n",
      " 6   label_encoded             9353 non-null   int64  \n",
      " 7   url_count                 9353 non-null   int64  \n",
      " 8   email_count               9353 non-null   int64  \n",
      " 9   money_count               9353 non-null   int64  \n",
      " 10  num_count                 9353 non-null   int64  \n",
      " 11  subject_len               9353 non-null   int64  \n",
      " 12  subject_upper_ratio       9353 non-null   float64\n",
      " 13  subject_exclaim           9353 non-null   int64  \n",
      " 14  subject_has_reply_prefix  9353 non-null   int64  \n",
      " 15  is_multipart              9353 non-null   int64  \n",
      " 16  num_parts                 9353 non-null   int64  \n",
      " 17  has_html_part             9353 non-null   int64  \n",
      " 18  num_lines                 9353 non-null   int64  \n",
      " 19  mean_line_len             9353 non-null   float64\n",
      " 20  exclam_count              9353 non-null   int64  \n",
      " 21  punct_count               9353 non-null   int64  \n",
      " 22  upper_ratio               9353 non-null   float64\n",
      " 23  non_ascii_ratio           9353 non-null   float64\n",
      " 24  char_count                9353 non-null   int64  \n",
      " 25  word_count                9353 non-null   int64  \n",
      " 26  avg_word_len              9353 non-null   float64\n",
      " 27  lexical_diversity         9353 non-null   float64\n",
      " 28  stopword_ratio            9353 non-null   float64\n",
      " 29  spam_word_count           9353 non-null   int64  \n",
      " 30  from_domain               9334 non-null   object \n",
      " 31  from_tld                  9334 non-null   object \n",
      "dtypes: float64(7), int64(17), object(8)\n",
      "memory usage: 2.3+ MB\n"
     ]
    }
   ],
   "source": [
    "df.info()"
   ]
  },
  {
   "cell_type": "code",
   "execution_count": 34,
   "id": "08273d72-f0e8-4362-91ff-f7b23c55f122",
   "metadata": {},
   "outputs": [],
   "source": [
    "df.drop(columns=['path','subject','body','text_all','clean_text','label','from_domain','from_tld'],axis=1,inplace=True)"
   ]
  },
  {
   "cell_type": "code",
   "execution_count": 35,
   "id": "5f4cca7b-4be7-480e-a46c-59f42375b578",
   "metadata": {},
   "outputs": [],
   "source": [
    "target = 'label_encoded'"
   ]
  },
  {
   "cell_type": "code",
   "execution_count": 36,
   "id": "5f37b167-1a1c-4734-9f25-90736e2050fb",
   "metadata": {},
   "outputs": [],
   "source": [
    "X= df.drop(target, axis=1)\n",
    "y = df[target]"
   ]
  },
  {
   "cell_type": "code",
   "execution_count": 37,
   "id": "5b5f59ab-b904-4e73-8313-fbc45e58bacb",
   "metadata": {},
   "outputs": [],
   "source": [
    "model = RandomForestClassifier(random_state=42,class_weight=\"balanced\")"
   ]
  },
  {
   "cell_type": "code",
   "execution_count": 45,
   "id": "5b0ccbd1-aa7c-48a9-9190-988555999b34",
   "metadata": {},
   "outputs": [],
   "source": [
    "skf = StratifiedKFold(n_splits=7,shuffle=True,random_state=53)"
   ]
  },
  {
   "cell_type": "code",
   "execution_count": 46,
   "id": "7ae09823-67c7-4069-adf8-88ab8495a0b2",
   "metadata": {},
   "outputs": [],
   "source": [
    "f1_scores = []\n",
    "auc_scores = []"
   ]
  },
  {
   "cell_type": "code",
   "execution_count": 47,
   "id": "97166309-efb5-45b8-8140-f71e85803a9c",
   "metadata": {},
   "outputs": [
    {
     "name": "stdout",
     "output_type": "stream",
     "text": [
      "Fold 1 - F1: 0.9748, AUC: 0.9950\n",
      "Fold 2 - F1: 0.9690, AUC: 0.9992\n",
      "Fold 3 - F1: 0.9838, AUC: 0.9993\n",
      "Fold 4 - F1: 0.9510, AUC: 0.9963\n",
      "Fold 5 - F1: 0.9738, AUC: 0.9971\n",
      "Fold 6 - F1: 0.9596, AUC: 0.9973\n",
      "Fold 7 - F1: 0.9765, AUC: 0.9988\n",
      "\n",
      "mean\n",
      "F1 mean score : 0.9698\n",
      "AUC mean score: 0.9976\n"
     ]
    }
   ],
   "source": [
    "for fold, (tr_idx, val_idx) in enumerate(skf.split(X, y), 1):\n",
    "    X_train, X_val = X.iloc[tr_idx], X.iloc[val_idx]\n",
    "    y_train, y_val = y.iloc[tr_idx], y.iloc[val_idx]\n",
    "\n",
    "    model.fit(X_train, y_train)\n",
    "\n",
    "    y_pred = model.predict(X_val)\n",
    "    y_prob = model.predict_proba(X_val)[:, 1]\n",
    "\n",
    "    f1 = f1_score(y_val, y_pred)       \n",
    "    auc = roc_auc_score(y_val, y_prob)\n",
    "\n",
    "    f1_scores.append(f1)\n",
    "    auc_scores.append(auc)\n",
    "\n",
    "    print(f\"Fold {fold} - F1: {f1:.4f}, AUC: {auc:.4f}\")\n",
    "\n",
    "print(\"\\nmean\")\n",
    "print(f\"F1 mean score : {np.mean(f1_scores):.4f}\")\n",
    "print(f\"AUC mean score: {np.mean(auc_scores):.4f}\")\n"
   ]
  },
  {
   "cell_type": "code",
   "execution_count": null,
   "id": "56b44919-0527-4bdf-920f-859e64666e62",
   "metadata": {},
   "outputs": [],
   "source": []
  },
  {
   "cell_type": "code",
   "execution_count": null,
   "id": "a6723086-7195-45c2-95d4-c613ce3c2d7a",
   "metadata": {},
   "outputs": [],
   "source": []
  },
  {
   "cell_type": "code",
   "execution_count": null,
   "id": "04d02835-2ffc-4c63-b8ac-1eac7837d533",
   "metadata": {},
   "outputs": [],
   "source": []
  },
  {
   "cell_type": "code",
   "execution_count": null,
   "id": "f3a12e10-45d5-4602-bae2-2c9b852c98f0",
   "metadata": {},
   "outputs": [],
   "source": []
  }
 ],
 "metadata": {
  "kernelspec": {
   "display_name": "Python [conda env:base] *",
   "language": "python",
   "name": "conda-base-py"
  },
  "language_info": {
   "codemirror_mode": {
    "name": "ipython",
    "version": 3
   },
   "file_extension": ".py",
   "mimetype": "text/x-python",
   "name": "python",
   "nbconvert_exporter": "python",
   "pygments_lexer": "ipython3",
   "version": "3.11.5"
  }
 },
 "nbformat": 4,
 "nbformat_minor": 5
}
