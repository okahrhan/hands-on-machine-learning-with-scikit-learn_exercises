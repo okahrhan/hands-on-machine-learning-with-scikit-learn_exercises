{
  "nbformat": 4,
  "nbformat_minor": 0,
  "metadata": {
    "colab": {
      "provenance": [],
      "authorship_tag": "ABX9TyNjU3UJIN0ZD0TeYNJDHoan",
      "include_colab_link": true
    },
    "kernelspec": {
      "name": "python3",
      "display_name": "Python 3"
    },
    "language_info": {
      "name": "python"
    }
  },
  "cells": [
    {
      "cell_type": "markdown",
      "metadata": {
        "id": "view-in-github",
        "colab_type": "text"
      },
      "source": [
        "<a href=\"https://colab.research.google.com/github/okahrhan/hands-on-machine-learning-with-scikit-learn_exercises/blob/main/Custom_Models_and_Training_with_TensorFlow.ipynb\" target=\"_parent\"><img src=\"https://colab.research.google.com/assets/colab-badge.svg\" alt=\"Open In Colab\"/></a>"
      ]
    },
    {
      "cell_type": "code",
      "execution_count": 7,
      "metadata": {
        "id": "7vvtlz_YFtYf"
      },
      "outputs": [],
      "source": [
        "from tensorflow import keras\n",
        "import tensorflow as tf"
      ]
    },
    {
      "cell_type": "code",
      "source": [
        "K = keras.backend"
      ],
      "metadata": {
        "id": "NN1rfNYVNFbx"
      },
      "execution_count": 8,
      "outputs": []
    },
    {
      "cell_type": "code",
      "source": [
        "t = tf.constant([[1.,2.,3.],[4.,5.,6.]])"
      ],
      "metadata": {
        "id": "t3S1cwiXNcPV"
      },
      "execution_count": 11,
      "outputs": []
    },
    {
      "cell_type": "code",
      "source": [
        "K.square(K.transpose(t))+10"
      ],
      "metadata": {
        "colab": {
          "base_uri": "https://localhost:8080/"
        },
        "id": "9WE4rSnrNHnq",
        "outputId": "92cea2a8-c26e-4725-ae20-b79f41c76d6a"
      },
      "execution_count": 12,
      "outputs": [
        {
          "output_type": "execute_result",
          "data": {
            "text/plain": [
              "<tf.Tensor: shape=(3, 2), dtype=float32, numpy=\n",
              "array([[11., 26.],\n",
              "       [14., 35.],\n",
              "       [19., 46.]], dtype=float32)>"
            ]
          },
          "metadata": {},
          "execution_count": 12
        }
      ]
    },
    {
      "cell_type": "code",
      "source": [
        "# #example\n",
        "# model = keras.models.Sequential([\n",
        "#     keras.layers.Dense(10, activation=\"relu\", input_shape=[8]),\n",
        "#     keras.layers.Dense(1)\n",
        "# ])"
      ],
      "metadata": {
        "id": "vhJhHww_XIFZ"
      },
      "execution_count": 15,
      "outputs": []
    },
    {
      "cell_type": "markdown",
      "source": [
        "###Custom Loss Function"
      ],
      "metadata": {
        "id": "v5S1iiLTUXCJ"
      }
    },
    {
      "cell_type": "code",
      "source": [
        "def huber_fn(y_true, y_pred):\n",
        "  error = y_true - y_pred\n",
        "  is_small_error = tf.abs(error)<1\n",
        "  squared_loss = tf.square(error)/2\n",
        "  linear_loss = tf.abs(error) - 0.5\n",
        "  return tf.where(is_small_error, squared_loss, linear_loss)"
      ],
      "metadata": {
        "id": "5y1EHfnBNMYO"
      },
      "execution_count": 16,
      "outputs": []
    },
    {
      "cell_type": "code",
      "source": [
        "#model.compile(loss=huber_fn,opimizer='nadam')\n",
        "#model.fit(X_train,y_train,[...])\n"
      ],
      "metadata": {
        "id": "-VZFyGegVBEC"
      },
      "execution_count": 17,
      "outputs": []
    },
    {
      "cell_type": "markdown",
      "source": [
        "saving and loading models that contain custom components"
      ],
      "metadata": {
        "id": "VLZgWmchV7bJ"
      }
    },
    {
      "cell_type": "code",
      "source": [
        "model = keras.models.load_model('my_model_custom_loss.h5',custom_objects={'huber_fn': huber_fn})\n"
      ],
      "metadata": {
        "id": "_mzSz2aeVzKi"
      },
      "execution_count": 21,
      "outputs": []
    },
    {
      "cell_type": "markdown",
      "source": [
        "With the current implementation, any error between –1 and 1 is considered “small.”\n",
        "But what if you want a different threshold? One solution is to create a function that\n",
        "creates a configured loss function:"
      ],
      "metadata": {
        "id": "MG5_pdnXWrAs"
      }
    },
    {
      "cell_type": "code",
      "source": [
        "def create_huber(threshold=1.0):\n",
        "    def huber_fn(y_true, y_pred):\n",
        "        error = y_true - y_pred\n",
        "        is_small_error = tf.abs(error) < threshold\n",
        "        squared_loss = tf.square(error) / 2\n",
        "        linear_loss = threshold * tf.abs(error) - (threshold ** 2) / 2\n",
        "        return tf.where(is_small_error, squared_loss, linear_loss)\n",
        "    return huber_fn\n",
        "\n",
        "model.compile(loss=create_huber(2.0), optimizer=\"nadam\")"
      ],
      "metadata": {
        "id": "GwPHOcvUWxR-"
      },
      "execution_count": 19,
      "outputs": []
    },
    {
      "cell_type": "code",
      "source": [
        "model = keras.models.load_model(\"my_model_with_a_custom_loss_threshold_2.h5\",custom_objects={\"huber_fn\": create_huber(2.0)})"
      ],
      "metadata": {
        "id": "tPW4oMEDXt-6"
      },
      "execution_count": null,
      "outputs": []
    },
    {
      "cell_type": "markdown",
      "source": [
        "Unfortunately, when you save the model, the threshold will not be saved. This means\n",
        "that you will have to specify the threshold value when loading the model (note that\n",
        "the name to use is \"huber_fn\", which is the name of the function you gave Keras, not\n",
        "the name of the function that created it):"
      ],
      "metadata": {
        "id": "D-pzN7msYDsT"
      }
    },
    {
      "cell_type": "markdown",
      "source": [
        "You can solve this by creating a subclass of the keras.losses.Loss class, and then\n",
        "implementing its get_config() method:"
      ],
      "metadata": {
        "id": "k3q5-YQ9YGsO"
      }
    },
    {
      "cell_type": "code",
      "source": [
        "class HuberLoss(keras.losses.Loss):\n",
        "    def __init__(self, threshold=1.0, **kwargs):\n",
        "        self.threshold = threshold\n",
        "        super().__init__(**kwargs)\n",
        "\n",
        "    def call(self, y_true, y_pred):\n",
        "        error = y_true - y_pred\n",
        "        is_small_error = tf.abs(error) < self.threshold\n",
        "        squared_loss = tf.square(error) / 2\n",
        "        linear_loss = self.threshold * tf.abs(error) - self.threshold**2 / 2\n",
        "        return tf.where(is_small_error, squared_loss, linear_loss)\n",
        "\n",
        "    def get_config(self):\n",
        "        base_config = super().get_config()\n",
        "        return {**base_config, \"threshold\": self.threshold}\n"
      ],
      "metadata": {
        "id": "WdudjawcXlRF"
      },
      "execution_count": null,
      "outputs": []
    },
    {
      "cell_type": "markdown",
      "source": [
        "You can then use any instance of this class when you compile the model:"
      ],
      "metadata": {
        "id": "L_8OHn7qWrUe"
      }
    },
    {
      "cell_type": "code",
      "source": [
        "model.compile(loss=HuberLoss(2.), optimizer=\"nadam\")"
      ],
      "metadata": {
        "id": "Z6uRDHOwYvFS"
      },
      "execution_count": null,
      "outputs": []
    },
    {
      "cell_type": "code",
      "source": [
        "model = keras.models.load_model(\"my_model_with_a_custom_loss_class.h5\", custom_objects={\"HuberLoss\": HuberLoss})"
      ],
      "metadata": {
        "id": "LWUFfM0LYi3l"
      },
      "execution_count": null,
      "outputs": []
    },
    {
      "cell_type": "markdown",
      "source": [
        "###Custom Activation Functions, Initializers, Regularizers and Constrains"
      ],
      "metadata": {
        "id": "0-ARJDGvY6NX"
      }
    },
    {
      "cell_type": "code",
      "source": [
        "def my_softpllus(z):#return value os just tf.nn.softplus(z)\n",
        "  return tf.math.log(tf.exp(z)+1)\n",
        "\n",
        "def my_glorot_initilazier(shape, dtype=tf.float32):\n",
        "  stddev = tf.sqrt(2./(shape[0]+shape[1]))\n",
        "  return tf.random.normal(shape,stddev=stddev,dtype=dtype)\n",
        "\n",
        "def my_l1_regularizer(weights):\n",
        "  return tf.reduce_sum(tf.abs(0.01*weights))\n",
        "\n",
        "def my_positive_weights(weights):\n",
        "  return tf.where(weights<0.,tf.zeros_like(weights),weights)\n",
        "\n",
        ""
      ],
      "metadata": {
        "id": "_3QHosBCZLAg"
      },
      "execution_count": 22,
      "outputs": []
    },
    {
      "cell_type": "code",
      "source": [
        "layer = keras.layers.Dense(30, activation=my_softpllus,kernel_initializer=my_glorot_initilazier,kernel_regularizer=my_l1_regularizer,kernel_constraint=my_positive_weights)"
      ],
      "metadata": {
        "id": "bHmMyrp4cJpb"
      },
      "execution_count": null,
      "outputs": []
    },
    {
      "cell_type": "code",
      "source": [
        "# #saved taslak\n",
        "# class MyL1Regularizer(keras.regularizers.Regularizer):\n",
        "#     def __init__(self, factor):\n",
        "#         self.factor = factor\n",
        "\n",
        "#     def __call__(self, weights):\n",
        "#         return tf.reduce_sum(tf.abs(self.factor * weights))\n",
        "\n",
        "#     def get_config(self):\n",
        "#         return {\"factor\": self.factor}\n"
      ],
      "metadata": {
        "id": "NDPbDWNycB4K"
      },
      "execution_count": null,
      "outputs": []
    },
    {
      "cell_type": "markdown",
      "source": [
        "###Custom Metrics"
      ],
      "metadata": {
        "id": "TVfRUhZSei18"
      }
    },
    {
      "cell_type": "code",
      "source": [
        "class HuberMetric(keras.metrics.Metric):\n",
        "    def __init__(self, threshold=1.0, **kwargs):\n",
        "        super().__init__(**kwargs)\n",
        "        self.threshold = threshold\n",
        "        self.huber_fn = create_huber(threshold)\n",
        "        self.total = self.add_weight(\"total\", initializer=\"zeros\")\n",
        "        self.count = self.add_weight(\"count\", initializer=\"zeros\")\n",
        "\n",
        "    def update_state(self, y_true, y_pred, sample_weight=None):\n",
        "        metric = self.huber_fn(y_true, y_pred)\n",
        "        self.total.assign_add(tf.reduce_sum(metric))\n",
        "        self.count.assign_add(tf.cast(tf.size(y_true), tf.float32))\n",
        "\n",
        "    def result(self):\n",
        "        return self.total / self.count\n",
        "\n",
        "    def get_config(self):\n",
        "        base_config = super().get_config()\n",
        "        return {**base_config, \"threshold\": self.threshold}\n"
      ],
      "metadata": {
        "id": "8Kf8_JkUdAFa"
      },
      "execution_count": null,
      "outputs": []
    },
    {
      "cell_type": "markdown",
      "source": [
        "###Custom Layers"
      ],
      "metadata": {
        "id": "GcFXvtxIlpcB"
      }
    },
    {
      "cell_type": "code",
      "source": [
        "exponential_layer = keras.layers.Lambda(lambda x: tf.exp(x))# no weight"
      ],
      "metadata": {
        "id": "BVEK13Y8dAIL"
      },
      "execution_count": null,
      "outputs": []
    },
    {
      "cell_type": "code",
      "source": [
        "class MyDense(keras.layers.Layer):\n",
        "    def __init__(self, units, activation=None, **kwargs):\n",
        "        super().__init__(**kwargs)\n",
        "        self.units = units\n",
        "        self.activation = keras.activations.get(activation)\n",
        "\n",
        "    def build(self, batch_input_shape):\n",
        "      #weight matrix\n",
        "        self.kernel = self.add_weight(\n",
        "            name=\"kernel\",\n",
        "            shape=[batch_input_shape[-1], self.units],\n",
        "            initializer=\"glorot_normal\"\n",
        "        )\n",
        "        #bias vector\n",
        "        self.bias = self.add_weight(\n",
        "            name=\"bias\",\n",
        "            shape=[self.units],\n",
        "            initializer=\"zeros\"\n",
        "        )\n",
        "        super().build(batch_input_shape)  # must be at the end\n",
        "    #forward pass\n",
        "    def call(self, X):\n",
        "        return self.activation(X @ self.kernel + self.bias)\n",
        "\n",
        "    def compute_output_shape(self, batch_input_shape):\n",
        "        return tf.TensorShape(batch_input_shape.as_list()[:-1] + [self.units])\n",
        "    #saved and load\n",
        "    def get_config(self):\n",
        "        base_config = super().get_config()\n",
        "        return {\n",
        "            **base_config,\n",
        "            \"units\": self.units,\n",
        "            \"activation\": keras.activations.serialize(self.activation),\n",
        "        }\n",
        "\n",
        "\n",
        "#example\n",
        "# model = keras.models.Sequential([\n",
        "#     keras.layers.Flatten(input_shape=[28, 28]),\n",
        "#     MyDense(100, activation=\"relu\"),\n",
        "#     MyDense(10, activation=\"softmax\")\n",
        "# ])"
      ],
      "metadata": {
        "id": "hHVyz8OHdAK4"
      },
      "execution_count": 24,
      "outputs": []
    },
    {
      "cell_type": "markdown",
      "source": [
        "###Losses and Metrics Based on Model Internals"
      ],
      "metadata": {
        "id": "iy218m4JpuNB"
      }
    },
    {
      "cell_type": "code",
      "source": [
        "class ReconstructingRegressor(keras.Model):\n",
        "    def __init__(self, output_dim, **kwargs):\n",
        "        super().__init__(**kwargs)\n",
        "        self.hidden = [\n",
        "            keras.layers.Dense(\n",
        "                30,\n",
        "                activation=\"selu\",\n",
        "                kernel_initializer=\"lecun_normal\"\n",
        "            )\n",
        "            for _ in range(5)\n",
        "        ]\n",
        "        self.out = keras.layers.Dense(output_dim)\n",
        "\n",
        "    def build(self, batch_input_shape):\n",
        "        n_inputs = batch_input_shape[-1]\n",
        "        self.reconstruct = keras.layers.Dense(n_inputs)\n",
        "        super().build(batch_input_shape)\n",
        "\n",
        "    def call(self, inputs):\n",
        "        Z = inputs\n",
        "        for layer in self.hidden:\n",
        "            Z = layer(Z)\n",
        "        reconstruction = self.reconstruct(Z)\n",
        "        recon_loss = tf.reduce_mean(tf.square(reconstruction - inputs))\n",
        "        self.add_loss(0.05 * recon_loss)\n",
        "        return self.out(Z)\n"
      ],
      "metadata": {
        "id": "TpAM55rpdANl"
      },
      "execution_count": null,
      "outputs": []
    },
    {
      "cell_type": "markdown",
      "source": [
        "###Custom Training Loops"
      ],
      "metadata": {
        "id": "_oX3nP4IrRKe"
      }
    },
    {
      "cell_type": "code",
      "source": [
        "# EPOCHS = 5\n",
        "# loss_fn = keras.losses.MeanSquaredError()\n",
        "# optimizer = keras.optimizers.Adam()\n",
        "# train_loss = keras.metrics.Mean(name=\"train_loss\")\n",
        "# for epoch in range(EPOCHS):\n",
        "#     train_loss.reset_state()\n",
        "#     for step, (x_batch, y_batch) in enumerate(dataset):\n",
        "#         with tf.GradientTape() as tape:\n",
        "#             y_pred = model(x_batch, training=True)\n",
        "#             loss = loss_fn(y_batch, y_pred)\n",
        "\n",
        "#         grads = tape.gradient(loss, model.trainable_variables)\n",
        "#         optimizer.apply_gradients(zip(grads, model.trainable_variables))\n",
        "\n",
        "#         train_loss.update_state(loss)\n",
        "\n",
        "#     print(f\"Epoch {epoch+1}, Loss: {train_loss.result().numpy():.4f}\")"
      ],
      "metadata": {
        "id": "tcW1sFW-dAQa"
      },
      "execution_count": null,
      "outputs": []
    },
    {
      "cell_type": "code",
      "source": [],
      "metadata": {
        "id": "KAEXlYIOdATA"
      },
      "execution_count": null,
      "outputs": []
    },
    {
      "cell_type": "code",
      "source": [],
      "metadata": {
        "id": "ioa_36x1dAVw"
      },
      "execution_count": null,
      "outputs": []
    }
  ]
}